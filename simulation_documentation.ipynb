{
 "cells": [
  {
   "cell_type": "markdown",
   "metadata": {},
   "source": [
    "# **Welcome to the Simulation Branch**"
   ]
  },
  {
   "cell_type": "markdown",
   "metadata": {},
   "source": [
    "This branch of the repository contains all code files necessary to create and run a 9-Body simulation of the Solar System. \n",
    "\n",
    "In this branch you will find:\n",
    "- 3 distinct python modules - 1 for the body class, 1 for the create varaiables functions, and 1 for the update variables functions\n",
    "- 1 CSV file of input data\n",
    "- 1 Newtonian Simulation notebook file\n",
    "- 1 folder of output body positions CSV examples\n",
    "\n",
    "All processing is completed and described in the newtonian simulation notebook file, so start there. \n",
    "\n",
    "Within the processing notebook file and python modules there are descriptive comments and documentation to explain each part of the process and how the files work in tandom."
   ]
  },
  {
   "cell_type": "markdown",
   "metadata": {},
   "source": []
  }
 ],
 "metadata": {
  "language_info": {
   "name": "python"
  }
 },
 "nbformat": 4,
 "nbformat_minor": 2
}
