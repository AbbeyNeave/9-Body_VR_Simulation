{
 "cells": [
  {
   "cell_type": "markdown",
   "id": "e52b6c3a-6c80-4235-ae51-d6b8ffc43fe6",
   "metadata": {},
   "source": [
    "# **Hello (world)!** \n",
    "\n",
    "## Follow these instructions to get going with the Solar System Simulation on the Meta Quest 2 headset. "
   ]
  },
  {
   "cell_type": "markdown",
   "id": "6f7ad49d-dc18-4d2f-8c11-befd9e519f9a",
   "metadata": {},
   "source": [
    "### 1. Ensure you have got what you need. This includes:\n",
    "1. A meta quest 2 headset \n",
    "2. A USB-C cable \n",
    "3. A compure \n"
   ]
  },
  {
   "cell_type": "markdown",
   "id": "f8f83b4e-0aa8-4ae4-ab6b-598c3f276ef5",
   "metadata": {},
   "source": [
    "### 2. Download the APK file contained in this branch\n",
    "1. Find the Virtual_Reality_Solar_System file contained in this github branch and download it to your computer.\n",
    "\n"
   ]
  },
  {
   "cell_type": "markdown",
   "id": "5e4042a1-99d8-4ba8-8e62-aec1ae421f67",
   "metadata": {},
   "source": [
    "### 3. Set up a Meta account\n",
    "1. Create a Meta account using the link (https://auth.meta.com/)\n",
    "\n",
    "22. Create an organization using the link (https://developer.oculus.com/manage/organizations/create/\n",
    "    If the website asks you to add 2-factor authentication, you can add it using the link \n",
    "(https://developer.oculus.com/manage/verify\n",
    "\n",
    "3. Using the headset, connect to the internet and log in using your Meta account\n",
    "\n",
    "4. Using the headset, navigate to settings (found by pressing the 4 small icons on the left hand side of \n",
    "the tool bar), and select Settings -> System -> Developer. Turn on the seting “USB Connection \n",
    "Dialog\""
   ]
  },
  {
   "cell_type": "markdown",
   "id": "397112c5-56dd-4128-8ddb-cc74a8830449",
   "metadata": {},
   "source": [
    "### 4. Downloading Sidequest\n",
    "1. Download and install the SideQuest Advanced Installer using this link (https://sidequestvr.com/setup\u0002howto).\n",
    "    You may need to install drivers using this link\n",
    "(https://developer.oculus.com/downloads/package/oculus-go-adb-drivers/). Install by right clicking o \n",
    "android_winusb.inf and selecting install3\n",
    " \n",
    "2. Run SideQuest and connect your headset to your using the USB-c cable\n",
    ". \n",
    "3. When connecting, a pop-up will open on the headset asking to Allow USB debugging? Select Allways \n",
    "allow from this computer. Another pop-up may open asking to Allow access to this device. Select allow\n",
    "\n",
    "4. On SideQuest, the icon on the top-left \n",
    "hand side of the program should turn green. Select the icon at the bottom of the screen which looks like a file cabinet with an arrow pointing down, and find and select the Solar System APK where you saved it on your device to install. \n",
    "\n",
    "5. To access the installed APK, use your \n",
    "headset to access the app Library (3x3 \n",
    "grid of squares on the tool bar). On the \n",
    "top right of the menu, select the drop down bar and select Unknown Sources. \n",
    "You should see the installed Solar System APK. You \n",
    "can then run the APK by selecting it.\n"
   ]
  },
  {
   "cell_type": "markdown",
   "id": "692e7446-dbe3-4cac-a830-1e96f16120d6",
   "metadata": {},
   "source": []
  },
  {
   "cell_type": "markdown",
   "id": "50b45ec7-fc26-40bd-bd30-7cb91dbf8dda",
   "metadata": {},
   "source": [
    "## Troubleshooting"
   ]
  },
  {
   "cell_type": "markdown",
   "id": "8b08ec66-f251-4857-aa41-5e27e319b96b",
   "metadata": {},
   "source": [
    "Here are solutions to some commmon issues encountered during installation:\n",
    "\n",
    "(1) No tracking of XR controllers\n",
    "\n",
    "Sometimes on launch, the XR controllers are not tracked and instead appear as 1 stationary straight line in the scene. This is solved by closing and re-running the programme until the movements are registered correctly. "
   ]
  },
  {
   "cell_type": "markdown",
   "id": "c8e59b9d",
   "metadata": {},
   "source": []
  }
 ],
 "metadata": {
  "kernelspec": {
   "display_name": "Python 3 (ipykernel)",
   "language": "python",
   "name": "python3"
  },
  "language_info": {
   "codemirror_mode": {
    "name": "ipython",
    "version": 3
   },
   "file_extension": ".py",
   "mimetype": "text/x-python",
   "name": "python",
   "nbconvert_exporter": "python",
   "pygments_lexer": "ipython3",
   "version": "3.11.7"
  }
 },
 "nbformat": 4,
 "nbformat_minor": 5
}
