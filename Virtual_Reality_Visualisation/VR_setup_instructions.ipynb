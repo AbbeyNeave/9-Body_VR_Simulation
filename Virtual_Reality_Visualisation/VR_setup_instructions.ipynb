{
 "cells": [
  {
   "cell_type": "markdown",
   "id": "fae5f5a7-86bc-49af-9bdc-4d6fba462698",
   "metadata": {},
   "source": [
    "# Hello (world)!"
   ]
  },
  {
   "cell_type": "markdown",
   "id": "73282149-2855-47e7-aee7-1ce4da8ef603",
   "metadata": {},
   "source": [
    "## Below are the instructions to get you set up with the VR Solar System using a Windows device and Meta Quest 2 headset."
   ]
  },
  {
   "cell_type": "markdown",
   "id": "954dfab3-0906-4eac-ae46-74a579206597",
   "metadata": {},
   "source": [
    "### 1. Get your data\n",
    "Use the input data, modules, and simulation notebook to get output data files for the positions of the celestial bodies"
   ]
  },
  {
   "cell_type": "markdown",
   "id": "a500d117-d583-40ef-9cbf-f922dcdf82b5",
   "metadata": {},
   "source": [
    "### 2. Create a Meta Account"
   ]
  },
  {
   "cell_type": "markdown",
   "id": "0342f241-8693-4f06-a6ca-b74f4a4c634d",
   "metadata": {},
   "source": [
    "### 3. Download Sidequest"
   ]
  },
  {
   "cell_type": "markdown",
   "id": "198372fa-148f-4ee4-8308-b580d302a5da",
   "metadata": {},
   "source": [
    "### 4. Download the Files in this folder"
   ]
  },
  {
   "cell_type": "markdown",
   "id": "ac5dafc2-1b77-4794-aff3-ae8d5a16daf7",
   "metadata": {},
   "source": [
    "### 5. Do something else"
   ]
  },
  {
   "cell_type": "markdown",
   "id": "1c751fed-fe24-474b-b6b7-d822eefd1916",
   "metadata": {},
   "source": [
    "### 6. Ensure your headset is charged"
   ]
  },
  {
   "cell_type": "markdown",
   "id": "92b7480b-d78b-4001-81a3-f02834fc9c5e",
   "metadata": {},
   "source": [
    "### 7. Attach the Meta Quest 2 to your laptop using the USB-c cable provided "
   ]
  },
  {
   "cell_type": "markdown",
   "id": "fe32498b-b70e-4d91-9e33-89eb3182e742",
   "metadata": {},
   "source": []
  },
  {
   "cell_type": "markdown",
   "id": "065c3d36-6049-4864-bb9d-ca9d085a65d6",
   "metadata": {},
   "source": []
  }
 ],
 "metadata": {
  "kernelspec": {
   "display_name": "Python 3 (ipykernel)",
   "language": "python",
   "name": "python3"
  },
  "language_info": {
   "codemirror_mode": {
    "name": "ipython",
    "version": 3
   },
   "file_extension": ".py",
   "mimetype": "text/x-python",
   "name": "python",
   "nbconvert_exporter": "python",
   "pygments_lexer": "ipython3",
   "version": "3.11.7"
  }
 },
 "nbformat": 4,
 "nbformat_minor": 5
}
