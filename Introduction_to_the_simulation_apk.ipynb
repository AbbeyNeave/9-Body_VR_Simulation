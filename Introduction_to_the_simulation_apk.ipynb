{
 "cells": [
  {
   "cell_type": "markdown",
   "metadata": {},
   "source": [
    "# **Solar System in VR**\n",
    " \t \n",
    "### This VR experience is designed to visualise the results of a 9-Body simulation of our Solar System’s planetary orbits. \n",
    "In the experience, you can fly around space, speed up and slow down the passing of time with a slider, and click on the celestial bodies to learn more about them. The current tool is an engaging way of observing the 3-dimensional spatial data in context, as so is useful in physics educational environments for learners to deepen their understanding of orbital motion.\n",
    "\n",
    "\n",
    "### See the following Youtube link for a demo of the Solar System VR experience in action:\n",
    "LINK\n",
    "\n",
    "\n",
    "When the simulation is launched, the following instructions are displayed to the screen which explain specifically how the user can navigate all interactive features:\n",
    "-\tMove around the environment using either controller’s joystick\n",
    "-\tRotate your view using either controller’s joystick\n",
    "-\tPoint and press with index finger to speed up/slow down time using the slider below\n",
    "-\tPoint and press with the grip button to click on celestial bodies and find out more about them\n",
    "\n",
    "The simulation was created in Python, and the visualisation was completed in Unity. All necessary software and hardware requirements are specified in the APK setup instructions Notebook file. \n",
    "The simulation computed positions at a 1-day time step over a 50-year duration, and used initial positions, velocities and masses from the NASA Horizons System. C# scripts were created in Unity to manage the visualisation of the orbiting of all planets (and how the time slider element influences the speed of these), the displaying of fact sheets shown when celestial bodies are clicked on, and the displaying of other informative text. The orbital and factsheet scripts were customised for each celestial body. Those written for Mercury specifically have been well commented to provide an overview of the functionality of each code section for all scripts. So, to get an overall understanding of the code setup, it is reccomended to investigate the following script files from the project folder (which have been grouped in a folder called ‘CommentedScripts’ within the project folder on the Github page):\n",
    "-\tmerc_orbit.cs\n",
    "-\ton_slider_change.cs\n",
    "-\tmerc_show_factsheet_script.cs\n",
    "-\tWelcomeTextRenderer.cs \n",
    "\n",
    "\n",
    "The project was done in part completion of the University of Bristol’s Scientific Computing with Data Science MSc.\n",
    "The developer Abbey Neave is contactable at abbeyneavework@gmail.com.\n",
    "\n",
    "Bug Report\n",
    "-\tAt current, the UI time slider occasionally reacts unpredictably to XR controller input. This issue is new issue as of 3/9/24 and persistent across Unity projects.\n",
    "\n"
   ]
  },
  {
   "cell_type": "markdown",
   "metadata": {},
   "source": []
  }
 ],
 "metadata": {
  "language_info": {
   "name": "python"
  }
 },
 "nbformat": 4,
 "nbformat_minor": 2
}
