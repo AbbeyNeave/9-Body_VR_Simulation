{
 "cells": [
  {
   "cell_type": "markdown",
   "metadata": {},
   "source": [
    "# **Welcome to the Visualisation Branch**"
   ]
  },
  {
   "cell_type": "markdown",
   "metadata": {},
   "source": [
    "This branch of the repository contains all code files necessary to visualise the results of the 9-Body Solar System simulation in virtual reality. \n",
    "\n",
    "In this branch you will find:\n",
    "- VirtualRealitySolarSystem APK file\n",
    "    - This is the file that can be used to run the Solar System scene on a VR headset\n",
    "- VR_APK_setup_instructions jupyter notebook file\n",
    "    - These instructions demonstrate how to set up the Solar System scene with a VR headset to be run\n",
    "- Introduction to the simulation APK jupyter notebook file\n",
    "    - This provides a detailed introduction to the Solar System scene, including it's different features, purpose, user instructions and contact details\n",
    "- A folder of Commented Scripts\n",
    "    - These scripts provide an overview of the custrom scripting approaches taken in Unity.\n",
    "        Orbit and factsheet scripts attached to Mercury were chosen to be the well commented demonsrations of the method taken for all celestial bodies in detail\n",
    "- A Virtual_Reality_Solar_System project file\n",
    "    - To set up the Solar System scene in Unity yourself (i.e for the purpose of making alterations to the scene yourself), use the Virtual Reality Solar System Scene project file. \n",
    "    Be sure to assign game objects to their correct public variables in the fields in the inspector!\n"
   ]
  },
  {
   "cell_type": "markdown",
   "metadata": {},
   "source": []
  }
 ],
 "metadata": {
  "language_info": {
   "name": "python"
  }
 },
 "nbformat": 4,
 "nbformat_minor": 2
}
